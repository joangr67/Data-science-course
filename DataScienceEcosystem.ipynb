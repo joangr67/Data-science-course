{
 "cells": [
  {
   "cell_type": "markdown",
   "id": "cdebfdf5-84f8-4447-956c-0706dbdd48ae",
   "metadata": {},
   "source": [
    "# Data Science Tools and Ecosystem"
   ]
  },
  {
   "cell_type": "markdown",
   "id": "67090626-623c-41c9-818b-3689afc648a6",
   "metadata": {},
   "source": [
    "In this notebook, Data Science Tools and Ecosystem are summarized."
   ]
  },
  {
   "cell_type": "markdown",
   "id": "fe1d7755-ce8b-4cd4-a287-ad697b47cbdc",
   "metadata": {},
   "source": [
    "**Objectives:**\n",
    "- Describe R capabilities and RStudio environment.\n",
    "- Use the inbuilt R plot function.\n",
    "- Explain version control and describe the Git and GitHub environment.\n",
    "- Describe the purpose of source repositories and explain how GitHub satisfies the needs of a source repository.\n",
    "- Explain how to sign up for a GitHub account and describe how to create a repository."
   ]
  },
  {
   "cell_type": "markdown",
   "id": "1e0243e3-c38b-42a7-b05d-863cf3eccefe",
   "metadata": {},
   "source": [
    "##### Some of the popular languages that Data Scientists use are:\n",
    "1. Python\n",
    "2. R\n",
    "3. SQL\n",
    "4. Julia\n",
    "5. Scala"
   ]
  },
  {
   "cell_type": "markdown",
   "id": "a5f0b533-8e5d-48f7-950d-13cd5da9acb5",
   "metadata": {},
   "source": [
    "##### Some of the commonly used libraries used by Data Scientists include:\n",
    "1. NumPy\n",
    "2. Pandas\n",
    "3. Matplotlib\n",
    "4. Scikit-learn\n",
    "5. TensorFlow"
   ]
  },
  {
   "cell_type": "markdown",
   "id": "42bc0c44-293d-4df2-be37-84d7b42b693d",
   "metadata": {},
   "source": [
    "| Data Science Tools       |\n",
    "|--------------------------|\n",
    "| Jupyter Notebook         |\n",
    "| RStudio                  |\n",
    "| Apache Zeppelin          |"
   ]
  },
  {
   "cell_type": "markdown",
   "id": "90267d5c-ebe9-4ef7-9da3-228ebb8f400c",
   "metadata": {},
   "source": [
    "### Below are a few examples of evaluating arithmetic expressions in Python\n",
    "- result = 5 + 3\n",
    "- result = 10 - 4\n",
    "- result = 7 * 6\n",
    "- result = 15 / 3"
   ]
  },
  {
   "cell_type": "code",
   "execution_count": 5,
   "id": "da5b54c3-8aff-4895-89fe-0ecdcfcdbc97",
   "metadata": {},
   "outputs": [
    {
     "data": {
      "text/plain": [
       "17"
      ]
     },
     "execution_count": 5,
     "metadata": {},
     "output_type": "execute_result"
    }
   ],
   "source": [
    "# This a simple arithmetic expression to multiply then add integers\n",
    "\n",
    "(3*4)+5"
   ]
  },
  {
   "cell_type": "code",
   "execution_count": 6,
   "id": "53218632-4a76-454f-b8ed-195a78e5b5e9",
   "metadata": {},
   "outputs": [
    {
     "data": {
      "text/plain": [
       "3.3333333333333335"
      ]
     },
     "execution_count": 6,
     "metadata": {},
     "output_type": "execute_result"
    }
   ],
   "source": [
    "# This will convert 200 minutes to hours by diving by 60\n",
    "\n",
    "200 / 60"
   ]
  },
  {
   "cell_type": "markdown",
   "id": "6b30aef0-32a1-4428-8302-08090d9977e2",
   "metadata": {},
   "source": [
    "## Author\n",
    "Juan Güell"
   ]
  },
  {
   "cell_type": "code",
   "execution_count": null,
   "id": "52323803-a9ee-426b-a5fe-8887ee020a89",
   "metadata": {},
   "outputs": [],
   "source": []
  }
 ],
 "metadata": {
  "kernelspec": {
   "display_name": "Python 3 (ipykernel)",
   "language": "python",
   "name": "python3"
  },
  "language_info": {
   "codemirror_mode": {
    "name": "ipython",
    "version": 3
   },
   "file_extension": ".py",
   "mimetype": "text/x-python",
   "name": "python",
   "nbconvert_exporter": "python",
   "pygments_lexer": "ipython3",
   "version": "3.11.9"
  }
 },
 "nbformat": 4,
 "nbformat_minor": 5
}
